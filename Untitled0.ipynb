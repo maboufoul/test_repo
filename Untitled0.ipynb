{
  "nbformat": 4,
  "nbformat_minor": 0,
  "metadata": {
    "colab": {
      "name": "Untitled0.ipynb",
      "provenance": [],
      "mount_file_id": "1kDDKYr2KpNgdZBT8DcBhcE0KDzO05DcW",
      "authorship_tag": "ABX9TyPHoI3i0FDxviDaWaN70XO/",
      "include_colab_link": true
    },
    "kernelspec": {
      "name": "python3",
      "display_name": "Python 3"
    }
  },
  "cells": [
    {
      "cell_type": "markdown",
      "metadata": {
        "id": "view-in-github",
        "colab_type": "text"
      },
      "source": [
        "<a href=\"https://colab.research.google.com/github/maboufoul/test_repo/blob/master/Untitled0.ipynb\" target=\"_parent\"><img src=\"https://colab.research.google.com/assets/colab-badge.svg\" alt=\"Open In Colab\"/></a>"
      ]
    },
    {
      "cell_type": "markdown",
      "metadata": {
        "id": "fa-_Z-3PUTHr",
        "colab_type": "text"
      },
      "source": [
        "# This is a homework assignment"
      ]
    },
    {
      "cell_type": "code",
      "metadata": {
        "id": "FWr5hl8qR_X1",
        "colab_type": "code",
        "colab": {
          "base_uri": "https://localhost:8080/",
          "height": 34
        },
        "outputId": "c1c4bef0-9b7a-4ebd-8fed-c6480ddcc7ce"
      },
      "source": [
        "from google.colab import drive\n",
        "drive.mount(\"/content/drive\")"
      ],
      "execution_count": 1,
      "outputs": [
        {
          "output_type": "stream",
          "text": [
            "Drive already mounted at /content/drive; to attempt to forcibly remount, call drive.mount(\"/content/drive\", force_remount=True).\n"
          ],
          "name": "stdout"
        }
      ]
    },
    {
      "cell_type": "code",
      "metadata": {
        "id": "i2f5TOPQSkd5",
        "colab_type": "code",
        "colab": {
          "base_uri": "https://localhost:8080/",
          "height": 419
        },
        "outputId": "d8276b59-f128-48b6-a460-b5514b7feac5"
      },
      "source": [
        "import pandas as pd\n",
        "\n",
        "df = pd.read_csv('/content/drive/My Drive/HE_Content_Modeling/Bankrate_Articles.csv')"
      ],
      "execution_count": 2,
      "outputs": [
        {
          "output_type": "execute_result",
          "data": {
            "text/html": [
              "<div>\n",
              "<style scoped>\n",
              "    .dataframe tbody tr th:only-of-type {\n",
              "        vertical-align: middle;\n",
              "    }\n",
              "\n",
              "    .dataframe tbody tr th {\n",
              "        vertical-align: top;\n",
              "    }\n",
              "\n",
              "    .dataframe thead th {\n",
              "        text-align: right;\n",
              "    }\n",
              "</style>\n",
              "<table border=\"1\" class=\"dataframe\">\n",
              "  <thead>\n",
              "    <tr style=\"text-align: right;\">\n",
              "      <th></th>\n",
              "      <th>URL</th>\n",
              "      <th>CLEANED_TEXT</th>\n",
              "    </tr>\n",
              "  </thead>\n",
              "  <tbody>\n",
              "    <tr>\n",
              "      <th>0</th>\n",
              "      <td>https://www.bankrate.com/finance/mortgages/qa-...</td>\n",
              "      <td>Kevin Barnes made a lot of money by cheating t...</td>\n",
              "    </tr>\n",
              "    <tr>\n",
              "      <th>1</th>\n",
              "      <td>https://www.bankrate.com/finance/taxes/determi...</td>\n",
              "      <td>Dear Tax Talk,My 83-year-old father has been a...</td>\n",
              "    </tr>\n",
              "    <tr>\n",
              "      <th>2</th>\n",
              "      <td>https://www.bankrate.com/finance/real-estate/h...</td>\n",
              "      <td>Homebuyer, beware the skeletons in the closet....</td>\n",
              "    </tr>\n",
              "    <tr>\n",
              "      <th>3</th>\n",
              "      <td>https://www.bankrate.com/mortgages/what-is-app...</td>\n",
              "      <td>fstop123/Getty Images First the good news: You...</td>\n",
              "    </tr>\n",
              "    <tr>\n",
              "      <th>4</th>\n",
              "      <td>https://www.bankrate.com/finance/investing/typ...</td>\n",
              "      <td>Energy stocks may be the right fuel for your p...</td>\n",
              "    </tr>\n",
              "    <tr>\n",
              "      <th>...</th>\n",
              "      <td>...</td>\n",
              "      <td>...</td>\n",
              "    </tr>\n",
              "    <tr>\n",
              "      <th>17439</th>\n",
              "      <td>https://www.bankrate.com/finance/insurance/acc...</td>\n",
              "      <td>Dear Insurance Adviser,I am in the process of ...</td>\n",
              "    </tr>\n",
              "    <tr>\n",
              "      <th>17440</th>\n",
              "      <td>https://www.bankrate.com/finance/video/consume...</td>\n",
              "      <td>« Back to the August 2011 Financial Security I...</td>\n",
              "    </tr>\n",
              "    <tr>\n",
              "      <th>17441</th>\n",
              "      <td>https://www.bankrate.com/retirement/best-retir...</td>\n",
              "      <td>Hero Images/Getty Images If you have young kid...</td>\n",
              "    </tr>\n",
              "    <tr>\n",
              "      <th>17442</th>\n",
              "      <td>https://www.bankrate.com/finance/personal-fina...</td>\n",
              "      <td>Suppose that, wherever you went, coupons appea...</td>\n",
              "    </tr>\n",
              "    <tr>\n",
              "      <th>17443</th>\n",
              "      <td>https://www.bankrate.com/finance/federal-reser...</td>\n",
              "      <td>A committee of the Federal Reserve is expected...</td>\n",
              "    </tr>\n",
              "  </tbody>\n",
              "</table>\n",
              "<p>17444 rows × 2 columns</p>\n",
              "</div>"
            ],
            "text/plain": [
              "                                                     URL                                       CLEANED_TEXT\n",
              "0      https://www.bankrate.com/finance/mortgages/qa-...  Kevin Barnes made a lot of money by cheating t...\n",
              "1      https://www.bankrate.com/finance/taxes/determi...  Dear Tax Talk,My 83-year-old father has been a...\n",
              "2      https://www.bankrate.com/finance/real-estate/h...  Homebuyer, beware the skeletons in the closet....\n",
              "3      https://www.bankrate.com/mortgages/what-is-app...  fstop123/Getty Images First the good news: You...\n",
              "4      https://www.bankrate.com/finance/investing/typ...  Energy stocks may be the right fuel for your p...\n",
              "...                                                  ...                                                ...\n",
              "17439  https://www.bankrate.com/finance/insurance/acc...  Dear Insurance Adviser,I am in the process of ...\n",
              "17440  https://www.bankrate.com/finance/video/consume...  « Back to the August 2011 Financial Security I...\n",
              "17441  https://www.bankrate.com/retirement/best-retir...  Hero Images/Getty Images If you have young kid...\n",
              "17442  https://www.bankrate.com/finance/personal-fina...  Suppose that, wherever you went, coupons appea...\n",
              "17443  https://www.bankrate.com/finance/federal-reser...  A committee of the Federal Reserve is expected...\n",
              "\n",
              "[17444 rows x 2 columns]"
            ]
          },
          "metadata": {
            "tags": []
          },
          "execution_count": 2
        }
      ]
    },
    {
      "cell_type": "code",
      "metadata": {
        "id": "i5c1jwyXTAsC",
        "colab_type": "code",
        "colab": {}
      },
      "source": [
        ""
      ],
      "execution_count": null,
      "outputs": []
    }
  ]
}